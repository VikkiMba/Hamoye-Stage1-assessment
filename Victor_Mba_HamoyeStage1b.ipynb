{
  "nbformat": 4,
  "nbformat_minor": 0,
  "metadata": {
    "colab": {
      "name": "Victor_Mba-HamoyeStage1b.ipynb",
      "provenance": [],
      "authorship_tag": "ABX9TyN0K0k0gph1qoE6XxeTunV8",
      "include_colab_link": true
    },
    "kernelspec": {
      "name": "python3",
      "display_name": "Python 3"
    }
  },
  "cells": [
    {
      "cell_type": "markdown",
      "metadata": {
        "id": "view-in-github",
        "colab_type": "text"
      },
      "source": [
        "<a href=\"https://colab.research.google.com/github/VikkiMba/Hamoye-Stage1-assessment/blob/master/Victor_Mba_HamoyeStage1b.ipynb\" target=\"_parent\"><img src=\"https://colab.research.google.com/assets/colab-badge.svg\" alt=\"Open In Colab\"/></a>"
      ]
    },
    {
      "cell_type": "code",
      "metadata": {
        "id": "lTqZ1T_pO8LC",
        "colab_type": "code",
        "colab": {}
      },
      "source": [
        "import numpy as np"
      ],
      "execution_count": 1,
      "outputs": []
    },
    {
      "cell_type": "code",
      "metadata": {
        "id": "MiRHiW-KPAbS",
        "colab_type": "code",
        "colab": {}
      },
      "source": [
        "import pandas as pd\n"
      ],
      "execution_count": 5,
      "outputs": []
    },
    {
      "cell_type": "code",
      "metadata": {
        "id": "GOIAVDdXPEcX",
        "colab_type": "code",
        "colab": {}
      },
      "source": [
        "import matplotlib.pyplot as plt\n"
      ],
      "execution_count": 2,
      "outputs": []
    },
    {
      "cell_type": "code",
      "metadata": {
        "id": "36QCn4GLBujA",
        "colab_type": "code",
        "colab": {}
      },
      "source": [
        "url='https://github.com/WalePhenomenon/climate_change/blob/master/fuel_ferc1.csv?raw=true'"
      ],
      "execution_count": 3,
      "outputs": []
    },
    {
      "cell_type": "code",
      "metadata": {
        "id": "fqSIelvcB8iP",
        "colab_type": "code",
        "colab": {}
      },
      "source": [
        "fuel_data = pd.read_csv(url, error_bad_lines=False)"
      ],
      "execution_count": 6,
      "outputs": []
    },
    {
      "cell_type": "code",
      "metadata": {
        "id": "P-wVNHzVPLfQ",
        "colab_type": "code",
        "colab": {
          "base_uri": "https://localhost:8080/",
          "height": 237
        },
        "outputId": "e9a19e7e-9c79-4cdf-d18f-9e52be4d0313"
      },
      "source": [
        "fuel_data.isnull().sum()"
      ],
      "execution_count": 7,
      "outputs": [
        {
          "output_type": "execute_result",
          "data": {
            "text/plain": [
              "record_id                         0\n",
              "utility_id_ferc1                  0\n",
              "report_year                       0\n",
              "plant_name_ferc1                  0\n",
              "fuel_type_code_pudl               0\n",
              "fuel_unit                       180\n",
              "fuel_qty_burned                   0\n",
              "fuel_mmbtu_per_unit               0\n",
              "fuel_cost_per_unit_burned         0\n",
              "fuel_cost_per_unit_delivered      0\n",
              "fuel_cost_per_mmbtu               0\n",
              "dtype: int64"
            ]
          },
          "metadata": {
            "tags": []
          },
          "execution_count": 7
        }
      ]
    },
    {
      "cell_type": "code",
      "metadata": {
        "id": "KFJEhYbHDVHW",
        "colab_type": "code",
        "colab": {
          "base_uri": "https://localhost:8080/",
          "height": 383
        },
        "outputId": "ad563ec1-6978-41a0-9c86-032f540c3e1f"
      },
      "source": [
        "fuel_data.groupby('fuel_unit').first()"
      ],
      "execution_count": 20,
      "outputs": [
        {
          "output_type": "execute_result",
          "data": {
            "text/html": [
              "<div>\n",
              "<style scoped>\n",
              "    .dataframe tbody tr th:only-of-type {\n",
              "        vertical-align: middle;\n",
              "    }\n",
              "\n",
              "    .dataframe tbody tr th {\n",
              "        vertical-align: top;\n",
              "    }\n",
              "\n",
              "    .dataframe thead th {\n",
              "        text-align: right;\n",
              "    }\n",
              "</style>\n",
              "<table border=\"1\" class=\"dataframe\">\n",
              "  <thead>\n",
              "    <tr style=\"text-align: right;\">\n",
              "      <th></th>\n",
              "      <th>record_id</th>\n",
              "      <th>utility_id_ferc1</th>\n",
              "      <th>report_year</th>\n",
              "      <th>plant_name_ferc1</th>\n",
              "      <th>fuel_type_code_pudl</th>\n",
              "      <th>fuel_qty_burned</th>\n",
              "      <th>fuel_mmbtu_per_unit</th>\n",
              "      <th>fuel_cost_per_unit_burned</th>\n",
              "      <th>fuel_cost_per_unit_delivered</th>\n",
              "      <th>fuel_cost_per_mmbtu</th>\n",
              "    </tr>\n",
              "    <tr>\n",
              "      <th>fuel_unit</th>\n",
              "      <th></th>\n",
              "      <th></th>\n",
              "      <th></th>\n",
              "      <th></th>\n",
              "      <th></th>\n",
              "      <th></th>\n",
              "      <th></th>\n",
              "      <th></th>\n",
              "      <th></th>\n",
              "      <th></th>\n",
              "    </tr>\n",
              "  </thead>\n",
              "  <tbody>\n",
              "    <tr>\n",
              "      <th>bbl</th>\n",
              "      <td>f1_fuel_1994_12_6_0_2</td>\n",
              "      <td>6</td>\n",
              "      <td>1994</td>\n",
              "      <td>clinch river</td>\n",
              "      <td>oil</td>\n",
              "      <td>6510.0</td>\n",
              "      <td>5.875338</td>\n",
              "      <td>32.130</td>\n",
              "      <td>23.444</td>\n",
              "      <td>5.469</td>\n",
              "    </tr>\n",
              "    <tr>\n",
              "      <th>gal</th>\n",
              "      <td>f1_fuel_2000_12_20_0_10</td>\n",
              "      <td>20</td>\n",
              "      <td>2000</td>\n",
              "      <td>hallock</td>\n",
              "      <td>oil</td>\n",
              "      <td>56925.0</td>\n",
              "      <td>5.527200</td>\n",
              "      <td>1.095</td>\n",
              "      <td>1.096</td>\n",
              "      <td>8.324</td>\n",
              "    </tr>\n",
              "    <tr>\n",
              "      <th>gramsU</th>\n",
              "      <td>f1_fuel_1994_12_9_0_8</td>\n",
              "      <td>9</td>\n",
              "      <td>1994</td>\n",
              "      <td>pch bt 2&amp;3</td>\n",
              "      <td>nuclear</td>\n",
              "      <td>204246.0</td>\n",
              "      <td>0.000065</td>\n",
              "      <td>44.000</td>\n",
              "      <td>0.000</td>\n",
              "      <td>0.679</td>\n",
              "    </tr>\n",
              "    <tr>\n",
              "      <th>kgU</th>\n",
              "      <td>f1_fuel_1994_12_2_1_1</td>\n",
              "      <td>2</td>\n",
              "      <td>1994</td>\n",
              "      <td>joseph m. farley</td>\n",
              "      <td>nuclear</td>\n",
              "      <td>2260.0</td>\n",
              "      <td>0.064094</td>\n",
              "      <td>28.770</td>\n",
              "      <td>0.000</td>\n",
              "      <td>0.450</td>\n",
              "    </tr>\n",
              "    <tr>\n",
              "      <th>mcf</th>\n",
              "      <td>f1_fuel_1994_12_2_0_10</td>\n",
              "      <td>2</td>\n",
              "      <td>1994</td>\n",
              "      <td>chickasaw</td>\n",
              "      <td>gas</td>\n",
              "      <td>40533.0</td>\n",
              "      <td>1.000000</td>\n",
              "      <td>2.770</td>\n",
              "      <td>2.770</td>\n",
              "      <td>2.570</td>\n",
              "    </tr>\n",
              "    <tr>\n",
              "      <th>mmbtu</th>\n",
              "      <td>f1_fuel_1994_12_46_1_7</td>\n",
              "      <td>46</td>\n",
              "      <td>1994</td>\n",
              "      <td>perry #1</td>\n",
              "      <td>nuclear</td>\n",
              "      <td>6619313.0</td>\n",
              "      <td>0.110455</td>\n",
              "      <td>1.170</td>\n",
              "      <td>0.000</td>\n",
              "      <td>1.170</td>\n",
              "    </tr>\n",
              "    <tr>\n",
              "      <th>mwdth</th>\n",
              "      <td>f1_fuel_1994_12_17_2_14</td>\n",
              "      <td>17</td>\n",
              "      <td>1994</td>\n",
              "      <td>h. b. robinson</td>\n",
              "      <td>nuclear</td>\n",
              "      <td>632744.0</td>\n",
              "      <td>3.413000</td>\n",
              "      <td>38.960</td>\n",
              "      <td>0.000</td>\n",
              "      <td>0.476</td>\n",
              "    </tr>\n",
              "    <tr>\n",
              "      <th>mwhth</th>\n",
              "      <td>f1_fuel_1994_12_63_0_2</td>\n",
              "      <td>63</td>\n",
              "      <td>1994</td>\n",
              "      <td>river bend unit 1</td>\n",
              "      <td>nuclear</td>\n",
              "      <td>10748582.0</td>\n",
              "      <td>3.412600</td>\n",
              "      <td>3.801</td>\n",
              "      <td>0.000</td>\n",
              "      <td>1.114</td>\n",
              "    </tr>\n",
              "    <tr>\n",
              "      <th>ton</th>\n",
              "      <td>f1_fuel_1994_12_1_0_7</td>\n",
              "      <td>1</td>\n",
              "      <td>1994</td>\n",
              "      <td>rockport</td>\n",
              "      <td>coal</td>\n",
              "      <td>5377489.0</td>\n",
              "      <td>16.590000</td>\n",
              "      <td>18.590</td>\n",
              "      <td>18.530</td>\n",
              "      <td>1.121</td>\n",
              "    </tr>\n",
              "  </tbody>\n",
              "</table>\n",
              "</div>"
            ],
            "text/plain": [
              "                         record_id  ...  fuel_cost_per_mmbtu\n",
              "fuel_unit                           ...                     \n",
              "bbl          f1_fuel_1994_12_6_0_2  ...                5.469\n",
              "gal        f1_fuel_2000_12_20_0_10  ...                8.324\n",
              "gramsU       f1_fuel_1994_12_9_0_8  ...                0.679\n",
              "kgU          f1_fuel_1994_12_2_1_1  ...                0.450\n",
              "mcf         f1_fuel_1994_12_2_0_10  ...                2.570\n",
              "mmbtu       f1_fuel_1994_12_46_1_7  ...                1.170\n",
              "mwdth      f1_fuel_1994_12_17_2_14  ...                0.476\n",
              "mwhth       f1_fuel_1994_12_63_0_2  ...                1.114\n",
              "ton          f1_fuel_1994_12_1_0_7  ...                1.121\n",
              "\n",
              "[9 rows x 10 columns]"
            ]
          },
          "metadata": {
            "tags": []
          },
          "execution_count": 20
        }
      ]
    },
    {
      "cell_type": "code",
      "metadata": {
        "id": "VAIrEC7ICFg3",
        "colab_type": "code",
        "colab": {
          "base_uri": "https://localhost:8080/",
          "height": 274
        },
        "outputId": "7eed87fc-cf56-464c-a217-5069816d3134"
      },
      "source": [
        "print(fuel_data)"
      ],
      "execution_count": null,
      "outputs": [
        {
          "output_type": "stream",
          "text": [
            "                     record_id  ...  fuel_cost_per_mmbtu\n",
            "0        f1_fuel_1994_12_1_0_7  ...                1.121\n",
            "1       f1_fuel_1994_12_1_0_10  ...                1.120\n",
            "2        f1_fuel_1994_12_2_0_1  ...                1.650\n",
            "3        f1_fuel_1994_12_2_0_7  ...                1.970\n",
            "4       f1_fuel_1994_12_2_0_10  ...                2.570\n",
            "...                        ...  ...                  ...\n",
            "29518  f1_fuel_2018_12_12_0_13  ...                9.030\n",
            "29519   f1_fuel_2018_12_12_1_1  ...                6.950\n",
            "29520  f1_fuel_2018_12_12_1_10  ...                8.990\n",
            "29521  f1_fuel_2018_12_12_1_13  ...                1.110\n",
            "29522  f1_fuel_2018_12_12_1_14  ...               11.680\n",
            "\n",
            "[29523 rows x 11 columns]\n"
          ],
          "name": "stdout"
        }
      ]
    },
    {
      "cell_type": "code",
      "metadata": {
        "colab_type": "code",
        "id": "P7tIpkUdZuh6",
        "colab": {}
      },
      "source": [
        ""
      ],
      "execution_count": 9,
      "outputs": []
    },
    {
      "cell_type": "markdown",
      "metadata": {
        "id": "HuonDyjTb9Rd",
        "colab_type": "text"
      },
      "source": [
        "Number or rows = 29523 as seen **above**"
      ]
    },
    {
      "cell_type": "code",
      "metadata": {
        "id": "-WEhn_PNZ3uJ",
        "colab_type": "code",
        "colab": {}
      },
      "source": [
        "f_unit=fuel_data.isnull().sum()"
      ],
      "execution_count": 25,
      "outputs": []
    },
    {
      "cell_type": "code",
      "metadata": {
        "id": "Wr8HC0iCQ6L0",
        "colab_type": "code",
        "colab": {}
      },
      "source": [
        "fuel_unit_null=f_unit['fuel_unit']"
      ],
      "execution_count": 26,
      "outputs": []
    },
    {
      "cell_type": "code",
      "metadata": {
        "colab_type": "code",
        "id": "32-djR-0cSK4",
        "colab": {}
      },
      "source": [
        "percentage_fuel_unit_null = fuel_unit_null/29523"
      ],
      "execution_count": 29,
      "outputs": []
    },
    {
      "cell_type": "code",
      "metadata": {
        "id": "RS05lo0SaZqY",
        "colab_type": "code",
        "colab": {
          "base_uri": "https://localhost:8080/",
          "height": 35
        },
        "outputId": "a3a27e6a-e7ca-47d3-adbc-6ad7da34e9f8"
      },
      "source": [
        "print(percentage_fuel_unit_null)"
      ],
      "execution_count": 30,
      "outputs": [
        {
          "output_type": "stream",
          "text": [
            "0.00609694136774718\n"
          ],
          "name": "stdout"
        }
      ]
    },
    {
      "cell_type": "code",
      "metadata": {
        "id": "4_vxKHBnamMz",
        "colab_type": "code",
        "colab": {
          "base_uri": "https://localhost:8080/",
          "height": 35
        },
        "outputId": "ba519c0f-5cdf-482f-852a-cc822c63a9ac"
      },
      "source": [
        "(180/29523)*100"
      ],
      "execution_count": 32,
      "outputs": [
        {
          "output_type": "execute_result",
          "data": {
            "text/plain": [
              "0.609694136774718"
            ]
          },
          "metadata": {
            "tags": []
          },
          "execution_count": 32
        }
      ]
    }
  ]
}